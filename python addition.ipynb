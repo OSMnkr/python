{
 "cells": [
  {
   "cell_type": "code",
   "execution_count": 3,
   "id": "b880fd40-422c-4cff-b080-2dd7f1e6156e",
   "metadata": {},
   "outputs": [
    {
     "name": "stdout",
     "output_type": "stream",
     "text": [
      "hello world\n"
     ]
    }
   ],
   "source": [
    "print (\"hello world\")"
   ]
  },
  {
   "cell_type": "code",
   "execution_count": 5,
   "id": "d3e8f4e5-7e8b-46e9-837e-ae6608bfccf1",
   "metadata": {},
   "outputs": [
    {
     "name": "stdout",
     "output_type": "stream",
     "text": [
      "om manekar\n"
     ]
    }
   ],
   "source": [
    "name = 'om manekar'\n",
    "print (name)"
   ]
  },
  {
   "cell_type": "code",
   "execution_count": 9,
   "id": "40cc18ac-c401-4910-9d53-38dbee2cd075",
   "metadata": {},
   "outputs": [
    {
     "name": "stdout",
     "output_type": "stream",
     "text": [
      "11\n"
     ]
    }
   ],
   "source": [
    "x = 2\n",
    "y = 9\n",
    "z = x+y\n",
    "print (z)"
   ]
  },
  {
   "cell_type": "code",
   "execution_count": null,
   "id": "64a7eda0-1c50-4781-9ea3-7441cd04014e",
   "metadata": {},
   "outputs": [],
   "source": []
  }
 ],
 "metadata": {
  "kernelspec": {
   "display_name": "Python 3 (ipykernel)",
   "language": "python",
   "name": "python3"
  },
  "language_info": {
   "codemirror_mode": {
    "name": "ipython",
    "version": 3
   },
   "file_extension": ".py",
   "mimetype": "text/x-python",
   "name": "python",
   "nbconvert_exporter": "python",
   "pygments_lexer": "ipython3",
   "version": "3.12.4"
  }
 },
 "nbformat": 4,
 "nbformat_minor": 5
}
